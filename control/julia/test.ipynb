{
 "cells": [
  {
   "cell_type": "code",
   "execution_count": null,
   "metadata": {},
   "outputs": [],
   "source": [
    "using ControlSystems\n",
    "using Plots\n",
    "\n",
    "s = tf(\"s\")\n",
    "wood_berry = [12.8/(16.7s+1)*exp(-s) -18.9/(21s+1)*exp(-3s);  6.6/(10.9s+1)*exp(-7s)  -19.4/(14.4s+1)*exp(-3s)]\n",
    "res = step(wood_berry, 0:0.1:100).y"
   ]
  },
  {
   "cell_type": "code",
   "execution_count": null,
   "metadata": {},
   "outputs": [],
   "source": [
    "res[1, :, 1]"
   ]
  },
  {
   "cell_type": "code",
   "execution_count": null,
   "metadata": {},
   "outputs": [
    {
     "data": {
      "text/plain": [
       "2×1001 Matrix{Float64}:\n",
       " 0.0  0.0  0.0  0.0  0.0  0.0  0.0  …  -0.0263751  -0.0320198  -0.0376148\n",
       " 0.0  0.0  0.0  0.0  0.0  0.0  0.0     -5.92877    -5.93249    -5.93617"
      ]
     },
     "metadata": {},
     "output_type": "display_data"
    }
   ],
   "source": [
    "using Interpolations, StaticArrays, ControlSystems, Plots\n",
    "\n",
    "# Define system\n",
    "s = tf(\"s\")\n",
    "wood_berry = [\n",
    "    12.8/(16.7s+1)*exp(-s)    -18.9/(21s+1)*exp(-3s);\n",
    "     6.6/(10.9s+1)*exp(-7s)   -19.4/(14.4s+1)*exp(-3s)\n",
    "]\n",
    "\n",
    "# Time and raw inputs\n",
    "t  = 0:0.1:100\n",
    "u1 = 1.0 .+ 0.2*sin.(0.05 .* t)\n",
    "u2 = 0.5 .+ 0.1.*(t .> 50)\n",
    "\n",
    "# 1-D ZOH interpolants with zero extrapolation\n",
    "itp1 = interpolate((t,), u1, Gridded(Constant()))\n",
    "itp2 = interpolate((t,), u2, Gridded(Constant()))\n",
    "eitp1 = extrapolate(itp1, 0)\n",
    "eitp2 = extrapolate(itp2, 0)\n",
    "\n",
    "# Correct input function signature: u(x, t)\n",
    "u_fun = (x, τ) -> @SVector [eitp1(τ); eitp2(τ)]\n",
    "\n",
    "# Simulate\n",
    "y, tout, xhist = lsim(wood_berry, u_fun, t)"
   ]
  }
 ],
 "metadata": {
  "kernelspec": {
   "display_name": "Julia 1.11.3",
   "language": "julia",
   "name": "julia-1.11"
  },
  "language_info": {
   "file_extension": ".jl",
   "mimetype": "application/julia",
   "name": "julia",
   "version": "1.11.3"
  }
 },
 "nbformat": 4,
 "nbformat_minor": 2
}
